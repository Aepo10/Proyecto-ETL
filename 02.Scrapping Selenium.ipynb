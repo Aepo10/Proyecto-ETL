{
 "cells": [
  {
   "cell_type": "code",
   "execution_count": 90,
   "metadata": {},
   "outputs": [],
   "source": [
    "#primero importare pandas, numpy y selenium para poder hacer el web scraping\n",
    "import pandas as pd\n",
    "import numpy as np\n",
    "from selenium import webdriver\n",
    "from selenium.webdriver.common.by import By\n",
    "from selenium.webdriver.chrome.options import Options\n",
    "from webdriver_manager.chrome import ChromeDriverManager\n",
    "from selenium.common.exceptions import NoSuchElementException\n",
    "import time\n",
    "from time import sleep\n"
   ]
  },
  {
   "cell_type": "code",
   "execution_count": 91,
   "metadata": {},
   "outputs": [],
   "source": [
    "#seleccionamos la url a la que queremos ir:\n",
    "url_compe= \"https://all.accor.com/ssr/app/ibis/hotels/madrid-spain/open/index.es.shtml?compositions=1&stayplus=false&snu=false&hideWDR=false&accessibleRooms=false&hideHotelDetails=false&dateIn=2025-03-01&nights=1&destination=madrid-spain\""
   ]
  },
  {
   "cell_type": "code",
   "execution_count": 92,
   "metadata": {},
   "outputs": [],
   "source": [
    "#defino una función que englobe todo el proceso de web scraping y cuyo argumento sea la url\n",
    "def scrapeo_competencia(url):\n",
    "    #inicializamos el driver y lo seteamos\n",
    "    driver = webdriver.Chrome()\n",
    "    #generamos el driver y abrimos la url, añado 7 segundos de espera\n",
    "    try:\n",
    "        driver.get(url)\n",
    "        time.sleep(7)\n",
    "    except: \n",
    "        print(\"error al cargar la pagina\")\n",
    "    #obtendre  los hoteles por su clase que es \"hotelblock__content\"\n",
    "    try:\n",
    "        hoteles = driver.find_elements(By.CLASS_NAME,\"hotelblock__content\")\n",
    "    except:\n",
    "        print(\"error al obtener los hoteles\")\n",
    "    #para cada hotel en la lista de hoteles, obtendre el nombre, valoración y precio del hotel y hago limpieza de los datos en la propia función\n",
    "    try:\n",
    "        hoteles_nombre = []\n",
    "        hotel_valoracion = []\n",
    "        hotel_precio = []\n",
    "        for hotel in hoteles:\n",
    "            nombre = hotel.find_element(By.CLASS_NAME, \"title\").text.split(\"\\n\")[0].replace(\"á\",\"a\").replace(\"é\",\"e\").replace(\"í\",\"i\").replace(\"ó\",\"o\").replace(\"ú\",\"u\")\n",
    "            valoracion = hotel.find_element(By.CLASS_NAME, \"ratings__score\").text.split(\"/\")[0]\n",
    "            precio = hotel.find_element(By.CLASS_NAME, \"booking-price\").text.replace(\"€\",\"\").replace(\" \",\"\")\n",
    "            hoteles_nombre.append(nombre)\n",
    "            hotel_valoracion.append(valoracion)\n",
    "            hotel_precio.append(precio)\n",
    "    except:\n",
    "        print(\"error al obtener los datos de los hoteles\")\n",
    "    #ahora convertiremos las listas en un dataframe\n",
    "    df=pd.DataFrame({\"nombre\":hoteles_nombre, \"valoracion\":hotel_valoracion, \"precio\":hotel_precio})\n",
    "    driver.close()\n",
    "    driver.quit()\n",
    "    return df.to_csv(\"hoteles_competencia.csv\", index=False)\n"
   ]
  },
  {
   "cell_type": "code",
   "execution_count": 93,
   "metadata": {},
   "outputs": [],
   "source": [
    "scrapeo_competencia(url_compe)"
   ]
  }
 ],
 "metadata": {
  "kernelspec": {
   "display_name": "Python 3",
   "language": "python",
   "name": "python3"
  },
  "language_info": {
   "codemirror_mode": {
    "name": "ipython",
    "version": 3
   },
   "file_extension": ".py",
   "mimetype": "text/x-python",
   "name": "python",
   "nbconvert_exporter": "python",
   "pygments_lexer": "ipython3",
   "version": "3.12.5"
  }
 },
 "nbformat": 4,
 "nbformat_minor": 2
}
